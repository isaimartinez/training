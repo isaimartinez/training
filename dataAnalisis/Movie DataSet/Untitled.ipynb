{
 "cells": [
  {
   "cell_type": "markdown",
   "id": "550e330f",
   "metadata": {},
   "source": [
    "# Reverse String"
   ]
  },
  {
   "cell_type": "code",
   "execution_count": 2,
   "id": "0e2cadee",
   "metadata": {},
   "outputs": [
    {
     "name": "stdout",
     "output_type": "stream",
     "text": [
      "Write strhola\n",
      "str:  hola \n",
      "Reversed:  aloh\n"
     ]
    }
   ],
   "source": [
    "str = input(\"Write str :\")\n",
    "\n",
    "def reverseStr(s):\n",
    "    strs = []\n",
    "    i = len(s)\n",
    "    while i:\n",
    "        i -= 1                       \n",
    "        strs.append(s[i])\n",
    "    return ''.join(strs)\n",
    "\n",
    "print(\"str: \", str, \"\\nReversed: \", reverseStr(str))"
   ]
  }
 ],
 "metadata": {
  "kernelspec": {
   "display_name": "Python 3 (ipykernel)",
   "language": "python",
   "name": "python3"
  },
  "language_info": {
   "codemirror_mode": {
    "name": "ipython",
    "version": 3
   },
   "file_extension": ".py",
   "mimetype": "text/x-python",
   "name": "python",
   "nbconvert_exporter": "python",
   "pygments_lexer": "ipython3",
   "version": "3.9.12"
  }
 },
 "nbformat": 4,
 "nbformat_minor": 5
}
